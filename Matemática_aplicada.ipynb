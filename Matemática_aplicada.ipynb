{
 "cells": [
  {
   "cell_type": "markdown",
   "id": "90123c3b-f8e4-4d4e-a041-5cf96ca21c58",
   "metadata": {},
   "source": [
    "# Matemática - Usando Python\n",
    "#### (ANÁLISE E DESENVOLVIMENTO DE SISTEMAS)\n",
    "\n",
    "\n",
    "Segue abaixo todos os códigos trabalhos em curso sobre Matemática aplicada em sala de aula, todos os codigo abaixo foram ajustados por mim, com auxilio do Professor.\n",
    "\n",
    "Espero ajudar aqueles que procuram se aperfeiçoar na area.\n",
    "\n",
    "**Primeiramente vamos carregar as bibliotecas usadas;**\n",
    "- [Bibliotecas](#Bibliotecas)\n",
    "\n",
    "**Abaixo todos os conteudos abordados:**\n",
    "\n",
    "- [Conversores Hexadecimal, decimal e binário](#Conversores_Hexadecimal_decimal_binario)\n",
    "- [Tabela_ASCII](#Tabela_ASCII)\n",
    "- [Notação_cientifica](#Notacao_cientifica)\n",
    "- [Cálculo_Z_Score_Probabilidade](#Calculo_Z_Score_Probabilidade)\n",
    "- [Probabilidade_Simples(Slovin)](#Probabilidade_Simples)\n",
    "- [Produto_Escalar_de_Vetores](#Produto_Escalar_de_Vetores)\n",
    "- [Cálculo_Desvio_Padrão](#Calculo_Desvio_Padrao)\n",
    "- [Calculadora_de_Mediana](#Calculadora_de_Mediana)\n",
    "- [Calculadora_de_Média](#Calculadora_de_Media)\n",
    "- [Criptografia_Cifra_de_César](#Criptografia_Cifra_de_Cesar)\n",
    "- [Interpolação_de_Lagrange](#Interpolacao_de_Lagrange)\n",
    "- [Conversorde_Moeda](#Conversorde_Moeda)\n",
    "- [Conversão_para_Bytes_e_Binário](#Conversao_para_Bytes_e_Binario)\n",
    "- [Cálculo_de_Baskara](#Calculo_de_Baskara)\n",
    "\n",
    "## Proposições possiveis\n",
    "\n",
    "### Negação (∼):\n",
    "- ∼𝑉 = 𝐹\n",
    "- ∼𝐹 = 𝑉\n",
    "\n",
    "### Conjunção \"E\" \".\" (∧):\n",
    "- 𝑉 ∧ 𝑉 = 𝑉\n",
    "- 𝑉 ∧ 𝐹 = 𝐹\n",
    "- 𝐹 ∧ 𝑉 = 𝐹\n",
    "- 𝐹 ∧ 𝐹 = 𝐹\n",
    "\n",
    "### Disjunção \"OU\" + (∨):\n",
    "- 𝑉 ∨ 𝑉 = 𝑉\n",
    "- 𝑉 ∨ 𝐹 = 𝑉\n",
    "- 𝐹 ∨ 𝑉 = 𝑉\n",
    "- 𝐹 ∨ 𝐹 = 𝐹\n",
    "\n",
    "### Implicação (→):\n",
    "- 𝑉 → 𝑉 = 𝑉\n",
    "- 𝑉 → 𝐹 = 𝐹\n",
    "- 𝐹 → 𝑉 = 𝑉\n",
    "- 𝐹 → 𝐹 = 𝑉\n",
    "\n",
    "### Bicondicional (↔):\n",
    "- 𝑉 ↔ 𝑉 = 𝑉\n",
    "- 𝑉 ↔ 𝐹 = 𝐹\n",
    "- 𝐹 ↔ 𝑉 = 𝐹\n",
    "- 𝐹 ↔ 𝐹 = 𝑉\n",
    "\n",
    "Para me acompanhar em outras redes ou saber mais sobre o meu trabalho, você pode me encontrar em:\n",
    "- GitHub: [Poterdev](https://github.com/Poterdev)\n",
    "- LinkedIn: [Erickson Santos](https://www.linkedin.com/in/erickson-santos-36a607318)\n",
    "- Medium: [Erickson Santos](https://medium.com/@erickson1.dev)"
   ]
  },
  {
   "cell_type": "markdown",
   "id": "9e9e5a31-47f8-4b1c-ac13-fcd75c0ae815",
   "metadata": {},
   "source": [
    "### Bibliotecas"
   ]
  },
  {
   "cell_type": "code",
   "execution_count": 63,
   "id": "05bca4be-1c53-4e3f-b0c0-51fc4d980f49",
   "metadata": {},
   "outputs": [],
   "source": [
    "import numpy as np\n",
    "import scipy.stats as stats\n",
    "import sys\n",
    "from scipy.interpolate import lagrange\n",
    "import math"
   ]
  },
  {
   "cell_type": "markdown",
   "id": "811b1b77-394f-44cf-a97b-bd0f93bc185a",
   "metadata": {},
   "source": [
    "### Conversores_Hexadecimal_decimal_binario"
   ]
  },
  {
   "cell_type": "code",
   "execution_count": 65,
   "id": "f93f956a-eedb-42b7-ab40-e1332d04d4ef",
   "metadata": {},
   "outputs": [
    {
     "name": "stdin",
     "output_type": "stream",
     "text": [
      "Digite 1 para converter para hexadecimal ou 2 para converter para decimal ou 3 para converter para binario:  3\n",
      "Digite um número binário:  111000111\n"
     ]
    },
    {
     "name": "stdout",
     "output_type": "stream",
     "text": [
      "O número decimal correspondente é: 455\n"
     ]
    }
   ],
   "source": [
    "# Numéricos\n",
    "#\n",
    "#\n",
    "def decimal_para_hexadecimal(numero_decimal):\n",
    "    numero_hexadecimal = hex(numero_decimal)\n",
    "    return numero_hexadecimal\n",
    "    \n",
    "def hexadecimal_para_decimal(numero_hexadecimal):\n",
    "    numero_decimal = int(numero_hexadecimal, 16)\n",
    "    return numero_decimal\n",
    "    \n",
    "def binario_para_decimal(binario):\n",
    "    decimal = 0\n",
    "    potencia = 0\n",
    "    for digito in reversed(binario):\n",
    "        if digito == '1':\n",
    "            decimal += 2 ** potencia\n",
    "        potencia += 1\n",
    "    return decimal\n",
    "\n",
    "# Menu de Conversão de Bases\n",
    "def menu_conversao():\n",
    "    case = int(input(\"Digite 1 para converter para hexadecimal ou 2 para converter para decimal ou 3 para converter para binario: \"))\n",
    "\n",
    "    if case == 1:\n",
    "        numero_decimal = int(input(\"Digite um número decimal: \"))\n",
    "        numero_hexadecimal = decimal_para_hexadecimal(numero_decimal)\n",
    "        print(\"O número hexadecimal correspondente é:\", numero_hexadecimal)\n",
    "\n",
    "    elif case == 2:\n",
    "        numero_hexadecimal = input(\"Digite um número hexadecimal: \")\n",
    "        numero_decimal = hexadecimal_para_decimal(numero_hexadecimal)\n",
    "        print(\"O número decimal correspondente é:\", numero_decimal)\n",
    "\n",
    "    elif case == 3:\n",
    "        numero_binario = input(\"Digite um número binário: \")\n",
    "        numero_decimal = binario_para_decimal(numero_binario)\n",
    "        print(\"O número decimal correspondente é:\", numero_decimal)\n",
    "\n",
    "menu_conversao()"
   ]
  },
  {
   "cell_type": "markdown",
   "id": "34ce58ba-3673-41ac-a9ae-3a6cf55abed0",
   "metadata": {},
   "source": [
    "### Tabela_ASCII"
   ]
  },
  {
   "cell_type": "code",
   "execution_count": 13,
   "id": "51ef2c54-5685-4cf2-90ba-ccc517a50bd0",
   "metadata": {},
   "outputs": [
    {
     "name": "stdin",
     "output_type": "stream",
     "text": [
      "Digite uma letra:  d\n"
     ]
    },
    {
     "name": "stdout",
     "output_type": "stream",
     "text": [
      "Letra: d\n",
      "Hexadecimal: 0x64\n",
      "Decimal: 100\n",
      "Binário: 0b1100100\n"
     ]
    }
   ],
   "source": [
    "# Tabela ASCII\n",
    "def converter_letra(letra):\n",
    "    valor_ascii = ord(letra)\n",
    "    valor_hexadecimal = hex(valor_ascii)\n",
    "    valor_decimal = valor_ascii\n",
    "    valor_binario = bin(valor_ascii)\n",
    "    return valor_hexadecimal, valor_decimal, valor_binario\n",
    "\n",
    "letra = input(\"Digite uma letra: \")\n",
    "valor_hexadecimal, valor_decimal, valor_binario = converter_letra(letra)\n",
    "\n",
    "print(f\"Letra: {letra}\")\n",
    "print(f\"Hexadecimal: {valor_hexadecimal}\")\n",
    "print(f\"Decimal: {valor_decimal}\")\n",
    "print(f\"Binário: {valor_binario}\")"
   ]
  },
  {
   "cell_type": "markdown",
   "id": "ef146686-3762-47c4-bad1-93075d73c12e",
   "metadata": {},
   "source": [
    "### Notacao_cientifica"
   ]
  },
  {
   "cell_type": "code",
   "execution_count": 24,
   "id": "cd0de4b3-ff39-4c79-abe7-2b9c7f91d486",
   "metadata": {},
   "outputs": [
    {
     "name": "stdout",
     "output_type": "stream",
     "text": [
      "1 Resultado 1.9177090640e+10\n",
      "2 Resultado 1.21236000e+05\n"
     ]
    }
   ],
   "source": [
    "a = 3.8174 * (10**5) # aqui pode alterar conforme o enunciado tanto o valor como expoente\n",
    "b = 5.0236 * (10**4) # aqui pode alterar conforme o enunciado tanto o valor como expoente\n",
    "\n",
    "numero = (a*b)\n",
    "print(f\"1 Resultado {numero:.10e}\") # nesta parte pode altera para qual notação quer obter o resultado\n",
    "\n",
    "# Nesta parte é para perguntas de transformação de resultado em notação\n",
    "numero = 121236\n",
    "print(f\"2 Resultado {numero:.8e}\")# nesta parte pode altera para qual notação quer obter o resultado"
   ]
  },
  {
   "cell_type": "markdown",
   "id": "aca4a15a-2a7f-4f1a-911d-152fcb45e360",
   "metadata": {},
   "source": [
    "### Calculo_Z_Score_Probabilidade"
   ]
  },
  {
   "cell_type": "code",
   "execution_count": 31,
   "id": "fd0c6858-0cf5-4fed-8161-6bd3a3318ccf",
   "metadata": {},
   "outputs": [
    {
     "name": "stdin",
     "output_type": "stream",
     "text": [
      "Total estimado:  12000\n",
      "Desvio padrão:  800\n",
      "Desvio 1:  12000\n",
      "Desvio 2:  10000\n"
     ]
    },
    {
     "name": "stdout",
     "output_type": "stream",
     "text": [
      "A probabilidade de que a vida útil esteja entre 12000 e 10000 horas é aproximadamente -0.4938 ou -49.38%\n"
     ]
    }
   ],
   "source": [
    "def calcular_z_score(x, media, desvio_padrao):\n",
    "    return (x - media) / desvio_padrao\n",
    "\n",
    "def calcular_probabilidade(media, desvio_padrao, x1, x2):\n",
    "    z1 = calcular_z_score(x1, media, desvio_padrao)\n",
    "    z2 = calcular_z_score(x2, media, desvio_padrao)\n",
    "\n",
    "    probabilidade = stats.norm.cdf(z2) - stats.norm.cdf(z1)\n",
    "    return probabilidade\n",
    "\n",
    "# Exemplo de Cálculo de Probabilidade\n",
    "media = int(input('Total estimado: '))\n",
    "desvio_padrao = int(input('Desvio padrão: '))\n",
    "x1 = int(input('Desvio 1: '))\n",
    "x2 = int(input('Desvio 2: '))\n",
    "\n",
    "probabilidade = calcular_probabilidade(media, desvio_padrao, x1, x2)\n",
    "print(f\"A probabilidade de que a vida útil esteja entre {x1} e {x2} horas é aproximadamente {probabilidade:.4f} ou {probabilidade * 100:.2f}%\")"
   ]
  },
  {
   "cell_type": "markdown",
   "id": "e25c31e9-7f5b-42e6-9193-56d95334ca8b",
   "metadata": {},
   "source": [
    "### Probabilidade_Simples"
   ]
  },
  {
   "cell_type": "code",
   "execution_count": 44,
   "id": "a7906f84-4e63-48bc-bc14-8deae610b865",
   "metadata": {},
   "outputs": [
    {
     "name": "stdin",
     "output_type": "stream",
     "text": [
      "Digite o número de eventos favoráveis (n):  1\n",
      "Digite o número total de eventos (N):  1\n"
     ]
    },
    {
     "name": "stdout",
     "output_type": "stream",
     "text": [
      "A probabilidade é: 100.0000%\n",
      "-0.0\n"
     ]
    }
   ],
   "source": [
    "\n",
    "def calcular_probabilidade_simples(n, N):\n",
    "    if N == 0:\n",
    "        return \"O número total de eventos (N) não pode ser zero.\"\n",
    "    return n / N\n",
    "\n",
    "n = int(input(\"Digite o número de eventos favoráveis (n): \"))\n",
    "N = int(input(\"Digite o número total de eventos (N): \"))\n",
    "\n",
    "probabilidade = calcular_probabilidade_simples(n, N)\n",
    "probabilidade = probabilidade * 100\n",
    "\n",
    "print(f\"A probabilidade é: {probabilidade:.4f}%\")\n",
    "print(-1*(probabilidade - 100))"
   ]
  },
  {
   "cell_type": "code",
   "execution_count": 50,
   "id": "9b913ee4-dcb3-41fd-a524-cf9f0fde1247",
   "metadata": {},
   "outputs": [
    {
     "name": "stdin",
     "output_type": "stream",
     "text": [
      "Total de amostra:  150000\n",
      "Total de amostra:  0.02\n"
     ]
    },
    {
     "name": "stdout",
     "output_type": "stream",
     "text": [
      "Tamanho da amostra: 2460\n"
     ]
    }
   ],
   "source": [
    "N = float(input(\"Total de amostra: \"))\n",
    "e = float(input(\"Total de amostra: \"))\n",
    "\n",
    "n =N / (1 + N * e**2)\n",
    "n_arredondado = math.ceil(n)\n",
    "\n",
    "print(f\"Tamanho da amostra: {n_arredondado}\")"
   ]
  },
  {
   "cell_type": "markdown",
   "id": "4003a222-2443-4fe9-901e-cfe0c9f289cf",
   "metadata": {},
   "source": [
    "### Produto_Escalar_de_Vetores"
   ]
  },
  {
   "cell_type": "code",
   "execution_count": 39,
   "id": "e4ccf775-60c6-4fd6-b0ef-11a0167d414b",
   "metadata": {},
   "outputs": [
    {
     "name": "stdin",
     "output_type": "stream",
     "text": [
      "Digite os valores do vetor u separados por espaço:  1 2 3 4 5 6\n",
      "Digite os valores do vetor v separados por espaço:  4 5 6 7 8 8\n"
     ]
    },
    {
     "name": "stdout",
     "output_type": "stream",
     "text": [
      "O produto escalar dos vetores u e v é: 148.0\n"
     ]
    }
   ],
   "source": [
    "def obter_vetor(nome):\n",
    "    vetor = input(f\"Digite os valores do vetor {nome} separados por espaço: \")\n",
    "    return np.array([float(x) for x in vetor.split()])\n",
    "\n",
    "def calcular_produto_escalar(u, v):\n",
    "    return np.dot(u, v)\n",
    "\n",
    "\n",
    "u = obter_vetor(\"u\")\n",
    "v = obter_vetor(\"v\")\n",
    "\n",
    "produto_escalar = calcular_produto_escalar(u, v)\n",
    "print(f\"O produto escalar dos vetores u e v é: {produto_escalar}\")"
   ]
  },
  {
   "cell_type": "markdown",
   "id": "36e3293e-91c8-4698-ad09-46b0abe8a5ee",
   "metadata": {},
   "source": [
    "### Calculadora_de_Mediana"
   ]
  },
  {
   "cell_type": "code",
   "execution_count": 48,
   "id": "c92cdf4c-d56f-4849-8b4b-d632c3135355",
   "metadata": {},
   "outputs": [
    {
     "name": "stdin",
     "output_type": "stream",
     "text": [
      "Digite a lista de valores separados por espaço:  1 2 3 4 5 6\n"
     ]
    },
    {
     "name": "stdout",
     "output_type": "stream",
     "text": [
      "3.5\n"
     ]
    }
   ],
   "source": [
    "# Calculadora de Mediana\n",
    "x = []\n",
    "mediana_input = input(\"Digite a lista de valores separados por espaço: \")\n",
    "\n",
    "for i in mediana_input.split():\n",
    "    x.append(float(i))\n",
    "\n",
    "mediana = np.median(x)\n",
    "print(mediana)"
   ]
  },
  {
   "cell_type": "markdown",
   "id": "e0aaa0ec-51ab-4811-9314-49931345a7f0",
   "metadata": {},
   "source": [
    "### Calculo_Desvio_Padrao"
   ]
  },
  {
   "cell_type": "code",
   "execution_count": 50,
   "id": "2e1088f5-5316-4693-abde-be5b66d3e105",
   "metadata": {},
   "outputs": [
    {
     "name": "stdin",
     "output_type": "stream",
     "text": [
      "Digite a lista de valores separados por espaço:  1 2 3 4 5 6 8 6 5\n"
     ]
    },
    {
     "name": "stdout",
     "output_type": "stream",
     "text": [
      "O desvio padrão é: 2.06\n"
     ]
    }
   ],
   "source": [
    "\n",
    "valores = []\n",
    "n_input = input(\"Digite a lista de valores separados por espaço: \")\n",
    "\n",
    "for i in n_input.split():\n",
    "    valores.append(float(i))\n",
    "\n",
    "desvio_padrao = np.std(valores)\n",
    "print(f\"O desvio padrão é: {desvio_padrao:.2f}\")"
   ]
  },
  {
   "cell_type": "markdown",
   "id": "b5bbf754-bc57-43e2-bb59-be6aadb8ef3a",
   "metadata": {},
   "source": [
    "### Calculadora_de_Media"
   ]
  },
  {
   "cell_type": "code",
   "execution_count": null,
   "id": "33f579a5-39d2-4505-90ca-928c0b378d98",
   "metadata": {},
   "outputs": [],
   "source": [
    "x = []\n",
    "media_input = input(\"Digite os valores do vetor separados por espaço: \")\n",
    "\n",
    "for i in media_input.split():\n",
    "    x.append(float(i))\n",
    "\n",
    "media = np.mean(x)\n",
    "print(mediana)"
   ]
  },
  {
   "cell_type": "markdown",
   "id": "a8cae027-7d9b-4397-a66d-e8341c9438d8",
   "metadata": {},
   "source": [
    "### Criptografia_Cifra_de_Cesar"
   ]
  },
  {
   "cell_type": "code",
   "execution_count": 57,
   "id": "4f04ca80-13c3-4d29-9eb4-519062834faa",
   "metadata": {},
   "outputs": [
    {
     "name": "stdin",
     "output_type": "stream",
     "text": [
      "Digite o texto a ser cifrado:  python\n",
      "Digite o valor do deslocamento:  3\n"
     ]
    },
    {
     "name": "stdout",
     "output_type": "stream",
     "text": [
      "Texto cifrado: sbwkrq\n"
     ]
    }
   ],
   "source": [
    "def cifra_de_cesar(texto, deslocamento):\n",
    "    resultado = \"\"\n",
    "    for char in texto:\n",
    "        if char.isalpha():\n",
    "            deslocamento_base = 65 if char.isupper() else 97\n",
    "            resultado += chr((ord(char) - deslocamento_base + deslocamento) % 26 + deslocamento_base)\n",
    "        else:\n",
    "            resultado += char\n",
    "    return resultado\n",
    "\n",
    "texto = input(\"Digite o texto a ser cifrado: \")\n",
    "deslocamento = int(input(\"Digite o valor do deslocamento: \"))\n",
    "\n",
    "texto_cifrado = cifra_de_cesar(texto, deslocamento)\n",
    "print(f\"Texto cifrado: {texto_cifrado}\")"
   ]
  },
  {
   "cell_type": "markdown",
   "id": "2add89f3-3b21-4a6a-95ea-1556acd4b34c",
   "metadata": {},
   "source": [
    "### Interpolacao_de_Lagrange"
   ]
  },
  {
   "cell_type": "code",
   "execution_count": 55,
   "id": "6f4a6cba-81b2-497e-ac4e-c724547a568b",
   "metadata": {},
   "outputs": [
    {
     "name": "stdin",
     "output_type": "stream",
     "text": [
      "Digite a lista de valores separados por espaço X:  2 5 9\n",
      "Digite a lista de valores separados por espaço Y:  2 1 10\n"
     ]
    },
    {
     "name": "stdout",
     "output_type": "stream",
     "text": [
      "Polinômio interpolador de Lagrange:\n",
      "       2\n",
      "0.369 x - 2.917 x + 6.357\n"
     ]
    }
   ],
   "source": [
    "vet1_input = input(\"Digite a lista de valores separados por espaço X: \")\n",
    "vet2_input = input(\"Digite a lista de valores separados por espaço Y: \")\n",
    "vet1 = [float(i) for i in vet1_input.split()] \n",
    "vet2 = [float(j) for j in vet2_input.split()]\n",
    "\n",
    "x = np.array(vet1)#\n",
    "y = np.array(vet2)\n",
    "\n",
    "polinomio = lagrange(x, y)\n",
    "print(\"Polinômio interpolador de Lagrange:\")\n",
    "print(polinomio)"
   ]
  },
  {
   "cell_type": "markdown",
   "id": "b9552065-b3b8-49bb-aafd-7375de4356f1",
   "metadata": {},
   "source": [
    "### Conversorde_Moeda"
   ]
  },
  {
   "cell_type": "code",
   "execution_count": 36,
   "id": "f6662893-9e77-427c-9080-f90d7bd56f0f",
   "metadata": {},
   "outputs": [
    {
     "name": "stdin",
     "output_type": "stream",
     "text": [
      "Digite a lista de valores separados por espaço :  138.40 86.70 90.90 234.90 107.70\n",
      "Valor da moeda:  4.80\n"
     ]
    },
    {
     "name": "stdout",
     "output_type": "stream",
     "text": [
      "Preços em reais: [[ 664.32  416.16  436.32 1127.52  516.96]]\n"
     ]
    }
   ],
   "source": [
    "# Conversão de Moeda\n",
    "v = []\n",
    "v_input = input(\"Digite a lista de valores separados por espaço : \")\n",
    "v = [float(i) for i in v_input.split()] \n",
    "\n",
    "p = np.array([v])\n",
    "\n",
    "# Lembre o separado de \",\" nos numeros de ponto flutuante é separado ao python use \" .\" \n",
    "taxa_conversao = float(input(\"Valor da moeda: \")) \n",
    "\n",
    "u = p * taxa_conversao\n",
    "print(\"Preços em reais:\", u)"
   ]
  },
  {
   "cell_type": "markdown",
   "id": "c1100e2f-d307-4bd7-937c-319650c3bf24",
   "metadata": {},
   "source": [
    "### Conversao_para_Bytes_e_Binario"
   ]
  },
  {
   "cell_type": "code",
   "execution_count": 81,
   "id": "6d9ebc6a-f6e0-49f3-a354-946e32bff6ac",
   "metadata": {},
   "outputs": [
    {
     "name": "stdin",
     "output_type": "stream",
     "text": [
      "Digite um número decimal:  2\n"
     ]
    },
    {
     "name": "stdout",
     "output_type": "stream",
     "text": [
      "O número decimal 2 em bytes é: b'\\x02'\n",
      "O número decimal 2 em binário é: 10\n"
     ]
    }
   ],
   "source": [
    "def decimal_para_bytes(decimal):\n",
    "    return decimal.to_bytes((decimal.bit_length() + 7) // 8, byteorder='big')\n",
    "\n",
    "def decimal_para_binario(decimal):\n",
    "    return bin(decimal)[2:]\n",
    "\n",
    "decimal = int(input(\"Digite um número decimal: \"))\n",
    "bytes_resultado = decimal_para_bytes(decimal)\n",
    "binario_resultado = decimal_para_binario(decimal)\n",
    "\n",
    "print(f\"O número decimal {decimal} em bytes é: {bytes_resultado}\")\n",
    "print(f\"O número decimal {decimal} em binário é: {binario_resultado}\")"
   ]
  },
  {
   "cell_type": "markdown",
   "id": "355a851a-8410-4497-b86f-e53709e29f9e",
   "metadata": {},
   "source": [
    "### Calculo_de_Baskara"
   ]
  },
  {
   "cell_type": "code",
   "execution_count": 40,
   "id": "211efe0c-0936-4bd1-b5ad-e26ba4e8250e",
   "metadata": {},
   "outputs": [
    {
     "name": "stdout",
     "output_type": "stream",
     "text": [
      "Coordenadas do vértice: (x_v, y_v) = (150.0, 89900.0)\n"
     ]
    }
   ],
   "source": [
    "a = -4\n",
    "b = 1200\n",
    "c = -100\n",
    "\n",
    "delta = b**2 - 4*a*c\n",
    "x_v = -b / (2*a)\n",
    "y_v = -delta / (4*a)\n",
    "\n",
    "print(f\"Coordenadas do vértice: (x_v, y_v) = ({x_v}, {y_v})\")"
   ]
  },
  {
   "cell_type": "code",
   "execution_count": null,
   "id": "fe20af50-f6f1-4469-b4db-85114cffa38d",
   "metadata": {},
   "outputs": [],
   "source": []
  }
 ],
 "metadata": {
  "kernelspec": {
   "display_name": "Python 3 (ipykernel)",
   "language": "python",
   "name": "python3"
  },
  "language_info": {
   "codemirror_mode": {
    "name": "ipython",
    "version": 3
   },
   "file_extension": ".py",
   "mimetype": "text/x-python",
   "name": "python",
   "nbconvert_exporter": "python",
   "pygments_lexer": "ipython3",
   "version": "3.12.7"
  }
 },
 "nbformat": 4,
 "nbformat_minor": 5
}
